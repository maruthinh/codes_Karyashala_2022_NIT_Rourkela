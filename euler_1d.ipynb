{
 "cells": [
  {
   "cell_type": "code",
   "execution_count": 1,
   "id": "23b3ca67",
   "metadata": {},
   "outputs": [],
   "source": [
    "import numpy as np\n",
    "import matplotlib.pyplot as plt"
   ]
  },
  {
   "cell_type": "markdown",
   "id": "6b4d85ee",
   "metadata": {},
   "source": [
    "### Grid "
   ]
  },
  {
   "cell_type": "code",
   "execution_count": 2,
   "id": "38ee8260",
   "metadata": {},
   "outputs": [],
   "source": [
    "class Grid:\n",
    "    def __init__(self, xmin: float, xmax: float, nx: int, n_ghost: int = 1):\n",
    "        self.xmin = xmin\n",
    "        self.xmax = xmax\n",
    "        self.nx = nx\n",
    "        self.tot_nx = nx + 2 * n_ghost\n",
    "        self.dx = (xmax - xmin) / (nx - 1)\n",
    "        self.x = np.linspace(xmin, xmax, nx)\n",
    "        self.x = np.insert(self.x, 0, self.x[0])\n",
    "        self.x = np.insert(self.x, self.x.shape[0], self.x[-1])"
   ]
  },
  {
   "cell_type": "markdown",
   "id": "a8b7a1d0",
   "metadata": {},
   "source": [
    "### Primitive variables to conserved variables"
   ]
  },
  {
   "cell_type": "code",
   "execution_count": 3,
   "id": "aa482c99",
   "metadata": {},
   "outputs": [],
   "source": [
    "def prim_to_cons_vars(pv: np.ndarray) -> np.ndarray:\n",
    "    cv = np.zeros(pv.shape)\n",
    "    cv[:, 0] = pv[:, 0]\n",
    "    cv[:, 1] = pv[:, 0] * pv[:, 1]\n",
    "    cv[:, 2] = pv[:, 0] * (pv[:, 2] / (pv[:, 0] * (1.4 - 1)) + 0.5 * pv[:, 1] ** 2)\n",
    "\n",
    "    return cv"
   ]
  },
  {
   "cell_type": "markdown",
   "id": "a2b6f0a0",
   "metadata": {},
   "source": [
    "### Conserved variables to primitive variables"
   ]
  },
  {
   "cell_type": "code",
   "execution_count": 4,
   "id": "4ee818b4",
   "metadata": {},
   "outputs": [],
   "source": [
    "def cons_to_prim_vars(cv: np.ndarray) -> np.ndarray:\n",
    "    pv = np.zeros(cv.shape)\n",
    "    pv[:, 0] = cv[:, 0]\n",
    "    pv[:, 1] = cv[:, 1] / cv[:, 0]\n",
    "    pv[:, 2] = (cv[:, 2] / cv[:, 0] - 0.5 * pv[:, 1] ** 2) * cv[:, 0] * (1.4 - 1)\n",
    "\n",
    "    return pv"
   ]
  },
  {
   "cell_type": "markdown",
   "id": "8004a4fa",
   "metadata": {},
   "source": [
    "### Conserved variables to flux"
   ]
  },
  {
   "cell_type": "code",
   "execution_count": 5,
   "id": "568be14c",
   "metadata": {},
   "outputs": [],
   "source": [
    "def conv_vars_to_flux(cv: np.ndarray) -> np.ndarray:\n",
    "    pv = cons_to_prim_vars(cv)\n",
    "    f = np.zeros(cv.shape)\n",
    "    f[:, 0] = cv[:, 1]\n",
    "    f[:, 1] = pv[:, 2] + cv[:, 1] * pv[:, 1]\n",
    "    f[:, 2] = pv[:, 2] * pv[:, 1] + cv[:, 2] * pv[:, 1]\n",
    "\n",
    "    return f"
   ]
  },
  {
   "cell_type": "markdown",
   "id": "51c2177f",
   "metadata": {},
   "source": [
    "### To compute time step"
   ]
  },
  {
   "cell_type": "code",
   "execution_count": 6,
   "id": "46c7b070",
   "metadata": {},
   "outputs": [],
   "source": [
    "def time_step(cv: np.ndarray, dx: float, cfl: float = 0.2) -> np.ndarray:\n",
    "    pv = cons_to_prim_vars(cv)\n",
    "    a = np.sqrt(1.4 * pv[:, 2] / pv[:, 0])\n",
    "    eig_val = np.abs(pv[:, 1] + a)\n",
    "    dt = cfl * dx / eig_val\n",
    "    \n",
    "    return np.min(dt)"
   ]
  },
  {
   "cell_type": "markdown",
   "id": "bf5c8435",
   "metadata": {},
   "source": [
    "### To compute Rusanov (LLF) flux"
   ]
  },
  {
   "cell_type": "code",
   "execution_count": 7,
   "id": "857e55b6",
   "metadata": {},
   "outputs": [],
   "source": [
    "def llf_flux(cv: np.ndarray) -> np.ndarray:\n",
    "    f = conv_vars_to_flux(cv)\n",
    "    pv = cons_to_prim_vars(cv)\n",
    "    a = np.sqrt(1.4 * pv[:, 2] / pv[:, 0])\n",
    "    eig_val_l = np.abs(pv[1:-1, 1]) + a[1:-1]\n",
    "    eig_val_r = np.abs(pv[2:, 1]) + a[2:]\n",
    "    max_eig_val = np.maximum(eig_val_l, eig_val_r)\n",
    "    max_eig_val = max_eig_val.reshape(max_eig_val.size, 1)\n",
    "    f_iph = 0.5 * (f[1:-1, :] + f[2:, :]) - 0.5 * max_eig_val * (cv[2:, :] - cv[1:-1, :])\n",
    "\n",
    "    eig_val_l = np.abs(pv[:-2, 1]) + a[:-2]\n",
    "    eig_val_r = np.abs(pv[1:-1, 1]) + a[1:-1]\n",
    "    max_eig_val = np.maximum(eig_val_l, eig_val_r)\n",
    "    max_eig_val = max_eig_val.reshape(max_eig_val.size, 1)\n",
    "    f_imh = 0.5 * (f[1:-1, :] + f[:-2, :]) - 0.5 * max_eig_val * (cv[1:-1, :] - cv[:-2, :])\n",
    "\n",
    "    return f_iph - f_imh"
   ]
  },
  {
   "cell_type": "markdown",
   "id": "06694378",
   "metadata": {},
   "source": [
    "### Initial and boundary conditions"
   ]
  },
  {
   "cell_type": "code",
   "execution_count": 8,
   "id": "0a1dee46",
   "metadata": {},
   "outputs": [],
   "source": [
    "def initialize(pv_l: np.ndarray, pv_r: np.ndarray, x: np.ndarray, pv: np.ndarray, xloc):\n",
    "    pv[np.argwhere(x <= xloc), :] = pv_l\n",
    "    pv[np.argwhere(x > xloc), :] = pv_r\n",
    "\n",
    "def bc(cv: np.ndarray) -> np.ndarray:\n",
    "    pv = cons_to_prim_vars(cv)\n",
    "    pv = np.insert(pv, 0, pv[0], axis=0)\n",
    "    pv = np.insert(pv, pv.shape[0], pv[-1], axis=0)\n",
    "\n",
    "    con_var = prim_to_cons_vars(pv)\n",
    "\n",
    "    return con_var"
   ]
  },
  {
   "cell_type": "markdown",
   "id": "ee1213b9",
   "metadata": {},
   "source": [
    "### Simulation parameters"
   ]
  },
  {
   "cell_type": "code",
   "execution_count": 9,
   "id": "0b89b92e",
   "metadata": {
    "tags": []
   },
   "outputs": [],
   "source": [
    "prim_var_l = np.array([1.0, 0.75, 1.0])\n",
    "prim_var_r = np.array([0.125, 0.0, 0.1])\n",
    "\n",
    "cfl_num = 0.9\n",
    "grid = Grid(0, 1, 10001)\n",
    "x_grid = grid.x\n",
    "x_loc = 0.3\n",
    "prim_var = np.zeros((x_grid.size, 3))\n",
    "initialize(prim_var_l, prim_var_r, x_grid, prim_var, x_loc)\n",
    "\n",
    "cons_var = prim_to_cons_vars(prim_var)\n",
    "flux = conv_vars_to_flux(cons_var)\n",
    "prim_var = cons_to_prim_vars(cons_var)"
   ]
  },
  {
   "cell_type": "markdown",
   "id": "b97101da",
   "metadata": {},
   "source": [
    "### Run the simulation"
   ]
  },
  {
   "cell_type": "code",
   "execution_count": 10,
   "id": "db27f072",
   "metadata": {},
   "outputs": [
    {
     "name": "stdout",
     "output_type": "stream",
     "text": [
      "CPU times: user 3.4 s, sys: 0 ns, total: 3.4 s\n",
      "Wall time: 3.4 s\n"
     ]
    }
   ],
   "source": [
    "%%time\n",
    "time = 0\n",
    "while time <= 0.2:\n",
    "    t_dt = time_step(cons_var, grid.dx, cfl_num)\n",
    "    flux = llf_flux(cons_var)\n",
    "    cv_new = cons_var[1:-1, :] - (t_dt / grid.dx) * flux\n",
    "    cons_var = bc(cv_new)\n",
    "    time += t_dt\n",
    "    # print(time)"
   ]
  },
  {
   "cell_type": "markdown",
   "id": "705d52c5",
   "metadata": {},
   "source": [
    "### Plot results"
   ]
  },
  {
   "cell_type": "code",
   "execution_count": 11,
   "id": "aa868f03",
   "metadata": {},
   "outputs": [
    {
     "data": {
      "text/plain": [
       "(array([0. , 0.2, 0.4, 0.6, 0.8, 1. , 1.2]),\n",
       " [Text(0, 0.0, '0.0'),\n",
       "  Text(0, 0.2, '0.2'),\n",
       "  Text(0, 0.4, '0.4'),\n",
       "  Text(0, 0.6000000000000001, '0.6'),\n",
       "  Text(0, 0.8, '0.8'),\n",
       "  Text(0, 1.0, '1.0'),\n",
       "  Text(0, 1.2000000000000002, '1.2')])"
      ]
     },
     "execution_count": 11,
     "metadata": {},
     "output_type": "execute_result"
    },
    {
     "data": {
      "image/png": "[encoded data removed]",
      "text/plain": [
       "<Figure size 640x480 with 1 Axes>"
      ]
     },
     "metadata": {},
     "output_type": "display_data"
    }
   ],
   "source": [
    "prim_var = cons_to_prim_vars(cons_var)\n",
    "analytical = np.loadtxt('./data/shock_tube.dat', delimiter=',')\n",
    "plt.plot(x_grid, prim_var[:, 0], label='LLF')\n",
    "plt.plot(analytical[:, 0], analytical[:, 1], label='Analytical')\n",
    "plt.xlabel('x', fontsize=16)\n",
    "plt.ylabel(r'$\\rho $', fontsize=16)\n",
    "plt.legend(fontsize=16)\n",
    "plt.xticks(fontsize=16)\n",
    "plt.yticks(fontsize=16)"
   ]
  }
 ],
 "metadata": {
  "kernelspec": {
   "display_name": "Python 3 (ipykernel)",
   "language": "python",
   "name": "python3"
  },
  "language_info": {
   "codemirror_mode": {
    "name": "ipython",
    "version": 3
   },
   "file_extension": ".py",
   "mimetype": "text/x-python",
   "name": "python",
   "nbconvert_exporter": "python",
   "pygments_lexer": "ipython3",
   "version": "3.9.16"
  }
 },
 "nbformat": 4,
 "nbformat_minor": 5
}
