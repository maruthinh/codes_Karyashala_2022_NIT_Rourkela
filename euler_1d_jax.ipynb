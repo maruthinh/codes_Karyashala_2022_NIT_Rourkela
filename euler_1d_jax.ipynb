{
 "cells": [
  {
   "cell_type": "code",
   "execution_count": 1,
   "id": "23b3ca67",
   "metadata": {},
   "outputs": [],
   "source": [
    "import numpy as np\n",
    "import matplotlib.pyplot as plt\n",
    "import jax.numpy as jnp\n",
    "from jax import jit\n",
    "import jax"
   ]
  },
  {
   "cell_type": "markdown",
   "id": "6b4d85ee",
   "metadata": {},
   "source": [
    "### Grid "
   ]
  },
  {
   "cell_type": "code",
   "execution_count": 2,
   "id": "38ee8260",
   "metadata": {},
   "outputs": [],
   "source": [
    "class Grid:\n",
    "    def __init__(self, xmin: float, xmax: float, nx: int, n_ghost: int = 1):\n",
    "        self.xmin = xmin\n",
    "        self.xmax = xmax\n",
    "        self.nx = nx\n",
    "        self.tot_nx = nx + 2 * n_ghost\n",
    "        self.dx = (xmax - xmin) / (nx - 1)\n",
    "        self.x = jnp.linspace(xmin, xmax, nx)\n",
    "        self.x = jnp.insert(self.x, 0, self.x[0])\n",
    "        self.x = jnp.insert(self.x, self.x.shape[0], self.x[-1])"
   ]
  },
  {
   "cell_type": "markdown",
   "id": "a8b7a1d0",
   "metadata": {},
   "source": [
    "### Primitive variables to conserved variables"
   ]
  },
  {
   "cell_type": "code",
   "execution_count": 3,
   "id": "aa482c99",
   "metadata": {},
   "outputs": [],
   "source": [
    "def prim_to_cons_vars(pv: jnp.ndarray) -> jnp.ndarray:\n",
    "    cv = jnp.zeros(pv.shape)\n",
    "    cv = cv.at[:,0].set(pv[:, 0])\n",
    "    cv = cv.at[:,1].set(pv[:, 0] * pv[:, 1])\n",
    "    cv = cv.at[:,2].set(pv[:, 0] * (pv[:, 2] / (pv[:, 0] * (1.4 - 1)) + 0.5 * pv[:, 1] ** 2))\n",
    "\n",
    "    return cv"
   ]
  },
  {
   "cell_type": "markdown",
   "id": "a2b6f0a0",
   "metadata": {},
   "source": [
    "### Conserved variables to primitive variables"
   ]
  },
  {
   "cell_type": "code",
   "execution_count": 4,
   "id": "4ee818b4",
   "metadata": {},
   "outputs": [],
   "source": [
    "def cons_to_prim_vars(cv: jnp.ndarray) -> jnp.ndarray:\n",
    "    pv = jnp.zeros(cv.shape)\n",
    "    pv = pv.at[:, 0].set(cv[:, 0])\n",
    "    pv = pv.at[:, 1].set(cv[:, 1] / cv[:, 0])\n",
    "    pv = pv.at[:, 2].set((cv[:, 2] / cv[:, 0] - 0.5 * pv[:, 1] ** 2) * cv[:, 0] * (1.4 - 1))\n",
    "\n",
    "    return pv"
   ]
  },
  {
   "cell_type": "markdown",
   "id": "8004a4fa",
   "metadata": {},
   "source": [
    "### Conserved variables to flux"
   ]
  },
  {
   "cell_type": "code",
   "execution_count": 5,
   "id": "568be14c",
   "metadata": {},
   "outputs": [],
   "source": [
    "def conv_vars_to_flux(cv: jnp.ndarray) -> jnp.ndarray:\n",
    "    pv = cons_to_prim_vars(cv)\n",
    "    f = jnp.zeros(cv.shape)\n",
    "    f = f.at[:, 0].set(cv[:, 1])\n",
    "    f = f.at[:, 1].set(pv[:, 2] + cv[:, 1] * pv[:, 1])\n",
    "    f = f.at[:, 2].set(pv[:, 2] * pv[:, 1] + cv[:, 2] * pv[:, 1])\n",
    "\n",
    "    return f"
   ]
  },
  {
   "cell_type": "markdown",
   "id": "51c2177f",
   "metadata": {},
   "source": [
    "### To compute time step"
   ]
  },
  {
   "cell_type": "code",
   "execution_count": 6,
   "id": "46c7b070",
   "metadata": {},
   "outputs": [],
   "source": [
    "def time_step(cv: jnp.ndarray, dx: float, cfl: float = 0.2) -> jnp.ndarray:\n",
    "    pv = cons_to_prim_vars(cv)\n",
    "    a = jnp.sqrt(1.4 * pv[:, 2] / pv[:, 0])\n",
    "    eig_val = jnp.abs(pv[:, 1] + a)\n",
    "    dt = cfl * dx / eig_val\n",
    "    \n",
    "    return jnp.min(dt)"
   ]
  },
  {
   "cell_type": "markdown",
   "id": "bf5c8435",
   "metadata": {},
   "source": [
    "### To compute Rusanov (LLF) flux"
   ]
  },
  {
   "cell_type": "code",
   "execution_count": 7,
   "id": "857e55b6",
   "metadata": {},
   "outputs": [],
   "source": [
    "\n",
    "def llf_flux(cv: jnp.ndarray) -> jnp.ndarray:\n",
    "    f = conv_vars_to_flux(cv)\n",
    "    pv = cons_to_prim_vars(cv)\n",
    "    a = jnp.sqrt(1.4 * pv[:, 2] / pv[:, 0])\n",
    "    f_iph=jnp.zeros(f.shape)\n",
    "    f_imh=jnp.zeros(f.shape)\n",
    "    for i in range(1, cv.shape[0]-1):\n",
    "        eig_val_l = jnp.abs(pv[i, 1]) + a[i]\n",
    "        eig_val_r = jnp.abs(pv[i+1, 1]) + a[i+1]\n",
    "        max_eig_val = jnp.maximum(eig_val_l, eig_val_r)\n",
    "        f_iph = f_iph.at[i, :].set(0.5 * (f[i, :] + f[i+1, :]) - 0.5 * max_eig_val * (cv[i+1, :] - cv[i, :]))\n",
    "\n",
    "    for i in range(1, cv.shape[0]-1):\n",
    "        eig_val_l = jnp.abs(pv[i-1, 1]) + a[i-1]\n",
    "        eig_val_r = jnp.abs(pv[i, 1]) + a[i]\n",
    "        max_eig_val = jnp.maximum(eig_val_l, eig_val_r)\n",
    "        f_imh = f_imh.at[i, :].set(0.5 * (f[i, :] + f[i-1, :]) - 0.5 * max_eig_val * (cv[i, :] - cv[i-1, :]))\n",
    "\n",
    "    return f_iph - f_imh"
   ]
  },
  {
   "cell_type": "markdown",
   "id": "06694378",
   "metadata": {},
   "source": [
    "### Initial conditions"
   ]
  },
  {
   "cell_type": "code",
   "execution_count": 8,
   "id": "0a1dee46",
   "metadata": {},
   "outputs": [],
   "source": [
    "def initialize(pv_l: jnp.ndarray, pv_r: jnp.ndarray, x: jnp.ndarray, pv: jnp.ndarray, xloc):\n",
    "    pv=pv.at[jnp.argwhere(x <= xloc), :].set(pv_l)\n",
    "    pv=pv.at[jnp.argwhere(x > xloc), :].set(pv_r)\n",
    "    \n",
    "    return pv\n",
    "    \n"
   ]
  },
  {
   "cell_type": "markdown",
   "id": "f2a49f3b",
   "metadata": {},
   "source": [
    "### Boundary conditions"
   ]
  },
  {
   "cell_type": "code",
   "execution_count": 9,
   "id": "ae0f9610",
   "metadata": {},
   "outputs": [],
   "source": [
    "def bc(cv: jnp.ndarray) -> jnp.ndarray:\n",
    "    pv = cons_to_prim_vars(cv)\n",
    "    pv = pv.at[0,:].set(pv[1,:])\n",
    "    pv = pv.at[-1,:].set(pv[-2,:])\n",
    "    con_var = prim_to_cons_vars(pv)\n",
    "\n",
    "    return con_var"
   ]
  },
  {
   "cell_type": "markdown",
   "id": "ee1213b9",
   "metadata": {},
   "source": [
    "### Simulation parameters"
   ]
  },
  {
   "cell_type": "code",
   "execution_count": 10,
   "id": "0b89b92e",
   "metadata": {},
   "outputs": [
    {
     "name": "stderr",
     "output_type": "stream",
     "text": [
      "WARNING:absl:No GPU/TPU found, falling back to CPU. (Set TF_CPP_MIN_LOG_LEVEL=0 and rerun for more info.)\n"
     ]
    },
    {
     "name": "stdout",
     "output_type": "stream",
     "text": [
      "[[1.      0.75    2.78125]\n",
      " [1.      0.75    2.78125]\n",
      " [1.      0.75    2.78125]\n",
      " [1.      0.75    2.78125]\n",
      " [1.      0.75    2.78125]\n",
      " [1.      0.75    2.78125]\n",
      " [1.      0.75    2.78125]\n",
      " [1.      0.75    2.78125]\n",
      " [1.      0.75    2.78125]\n",
      " [1.      0.75    2.78125]\n",
      " [1.      0.75    2.78125]\n",
      " [1.      0.75    2.78125]\n",
      " [1.      0.75    2.78125]\n",
      " [1.      0.75    2.78125]\n",
      " [1.      0.75    2.78125]\n",
      " [1.      0.75    2.78125]\n",
      " [1.      0.75    2.78125]\n",
      " [1.      0.75    2.78125]\n",
      " [1.      0.75    2.78125]\n",
      " [1.      0.75    2.78125]\n",
      " [1.      0.75    2.78125]\n",
      " [1.      0.75    2.78125]\n",
      " [1.      0.75    2.78125]\n",
      " [1.      0.75    2.78125]\n",
      " [1.      0.75    2.78125]\n",
      " [1.      0.75    2.78125]\n",
      " [1.      0.75    2.78125]\n",
      " [1.      0.75    2.78125]\n",
      " [1.      0.75    2.78125]\n",
      " [1.      0.75    2.78125]\n",
      " [1.      0.75    2.78125]\n",
      " [1.      0.75    2.78125]\n",
      " [0.125   0.      0.25   ]\n",
      " [0.125   0.      0.25   ]\n",
      " [0.125   0.      0.25   ]\n",
      " [0.125   0.      0.25   ]\n",
      " [0.125   0.      0.25   ]\n",
      " [0.125   0.      0.25   ]\n",
      " [0.125   0.      0.25   ]\n",
      " [0.125   0.      0.25   ]\n",
      " [0.125   0.      0.25   ]\n",
      " [0.125   0.      0.25   ]\n",
      " [0.125   0.      0.25   ]\n",
      " [0.125   0.      0.25   ]\n",
      " [0.125   0.      0.25   ]\n",
      " [0.125   0.      0.25   ]\n",
      " [0.125   0.      0.25   ]\n",
      " [0.125   0.      0.25   ]\n",
      " [0.125   0.      0.25   ]\n",
      " [0.125   0.      0.25   ]\n",
      " [0.125   0.      0.25   ]\n",
      " [0.125   0.      0.25   ]\n",
      " [0.125   0.      0.25   ]\n",
      " [0.125   0.      0.25   ]\n",
      " [0.125   0.      0.25   ]\n",
      " [0.125   0.      0.25   ]\n",
      " [0.125   0.      0.25   ]\n",
      " [0.125   0.      0.25   ]\n",
      " [0.125   0.      0.25   ]\n",
      " [0.125   0.      0.25   ]\n",
      " [0.125   0.      0.25   ]\n",
      " [0.125   0.      0.25   ]\n",
      " [0.125   0.      0.25   ]\n",
      " [0.125   0.      0.25   ]\n",
      " [0.125   0.      0.25   ]\n",
      " [0.125   0.      0.25   ]\n",
      " [0.125   0.      0.25   ]\n",
      " [0.125   0.      0.25   ]\n",
      " [0.125   0.      0.25   ]\n",
      " [0.125   0.      0.25   ]\n",
      " [0.125   0.      0.25   ]\n",
      " [0.125   0.      0.25   ]\n",
      " [0.125   0.      0.25   ]\n",
      " [0.125   0.      0.25   ]\n",
      " [0.125   0.      0.25   ]\n",
      " [0.125   0.      0.25   ]\n",
      " [0.125   0.      0.25   ]\n",
      " [0.125   0.      0.25   ]\n",
      " [0.125   0.      0.25   ]\n",
      " [0.125   0.      0.25   ]\n",
      " [0.125   0.      0.25   ]\n",
      " [0.125   0.      0.25   ]\n",
      " [0.125   0.      0.25   ]\n",
      " [0.125   0.      0.25   ]\n",
      " [0.125   0.      0.25   ]\n",
      " [0.125   0.      0.25   ]\n",
      " [0.125   0.      0.25   ]\n",
      " [0.125   0.      0.25   ]\n",
      " [0.125   0.      0.25   ]\n",
      " [0.125   0.      0.25   ]\n",
      " [0.125   0.      0.25   ]\n",
      " [0.125   0.      0.25   ]\n",
      " [0.125   0.      0.25   ]\n",
      " [0.125   0.      0.25   ]\n",
      " [0.125   0.      0.25   ]\n",
      " [0.125   0.      0.25   ]\n",
      " [0.125   0.      0.25   ]\n",
      " [0.125   0.      0.25   ]\n",
      " [0.125   0.      0.25   ]\n",
      " [0.125   0.      0.25   ]\n",
      " [0.125   0.      0.25   ]\n",
      " [0.125   0.      0.25   ]\n",
      " [0.125   0.      0.25   ]]\n"
     ]
    }
   ],
   "source": [
    "prim_var_l = jnp.array([1.0, 0.75, 1.0])\n",
    "prim_var_r = jnp.array([0.125, 0.0, 0.1])\n",
    "\n",
    "cfl_num = 0.9\n",
    "grid = Grid(0, 1, 101)\n",
    "x_grid = grid.x\n",
    "x_loc = 0.3\n",
    "prim_var = jnp.zeros((x_grid.size, 3))\n",
    "prim_var = initialize(prim_var_l, prim_var_r, x_grid, prim_var, x_loc)\n",
    "# print(prim_var)\n",
    "cons_var = prim_to_cons_vars(prim_var)\n",
    "print(cons_var)\n",
    "flux = conv_vars_to_flux(cons_var)\n",
    "prim_var = cons_to_prim_vars(cons_var)"
   ]
  },
  {
   "cell_type": "markdown",
   "id": "b97101da",
   "metadata": {},
   "source": [
    "### Run the simulation"
   ]
  },
  {
   "cell_type": "code",
   "execution_count": 11,
   "id": "db27f072",
   "metadata": {},
   "outputs": [
    {
     "name": "stdout",
     "output_type": "stream",
     "text": [
      "0.004655455\n",
      "0.004655455\n",
      "0.004175018\n",
      "0.008830473\n",
      "0.0039358074\n",
      "0.01276628\n",
      "0.003783989\n",
      "0.016550269\n",
      "0.0037058024\n",
      "0.020256072\n",
      "0.0036802944\n",
      "0.023936367\n",
      "0.0036422624\n",
      "0.02757863\n",
      "0.003578803\n",
      "0.031157432\n",
      "0.0035521882\n",
      "0.03470962\n",
      "0.0035233558\n",
      "0.03823298\n",
      "0.0034908555\n",
      "0.041723832\n",
      "0.0034775618\n",
      "0.045201395\n",
      "0.003471253\n",
      "0.048672646\n",
      "0.0034470726\n",
      "0.052119717\n",
      "0.0034358145\n",
      "0.05555553\n",
      "0.0034309926\n",
      "0.058986522\n",
      "0.003412118\n",
      "0.06239864\n",
      "0.00340274\n",
      "0.06580138\n",
      "0.0034038096\n",
      "0.069205195\n",
      "0.0033874195\n",
      "0.072592616\n",
      "0.0033786702\n",
      "0.07597128\n",
      "0.0033790595\n",
      "0.079350345\n",
      "0.0033677567\n",
      "0.082718104\n",
      "0.0033595192\n",
      "0.08607762\n",
      "0.0033588868\n",
      "0.08943651\n",
      "0.003352497\n",
      "0.09278901\n",
      "0.0033446522\n",
      "0.096133664\n",
      "0.003343162\n",
      "0.09947683\n",
      "0.003340106\n",
      "0.10281693\n",
      "0.0033327672\n",
      "0.106149696\n",
      "0.0033306424\n",
      "0.10948034\n",
      "0.0033300207\n",
      "0.11281036\n",
      "0.003323275\n",
      "0.11613363\n",
      "0.003320714\n",
      "0.11945435\n",
      "0.003321648\n",
      "0.122775994\n",
      "0.0033155705\n",
      "0.12609157\n",
      "0.003312785\n",
      "0.12940435\n",
      "0.003314658\n",
      "0.13271901\n",
      "0.0033092708\n",
      "0.13602827\n",
      "0.0033064396\n",
      "0.13933471\n",
      "0.0033073665\n",
      "0.14264208\n",
      "0.003304058\n",
      "0.14594615\n",
      "0.0033013255\n",
      "0.14924747\n",
      "0.003301557\n",
      "0.15254903\n",
      "0.0032997052\n",
      "0.15584873\n",
      "0.0032971667\n",
      "0.15914589\n",
      "0.0032969273\n",
      "0.16244282\n",
      "0.0032960423\n",
      "0.16573887\n",
      "0.003293751\n",
      "0.16903262\n",
      "0.0032932262\n",
      "0.17232585\n",
      "0.0032929445\n",
      "0.1756188\n",
      "0.0032909154\n",
      "0.17890972\n",
      "0.003290248\n",
      "0.18219997\n",
      "0.0032903193\n",
      "0.1854903\n",
      "0.0032885403\n",
      "0.18877883\n",
      "0.0032878306\n",
      "0.19206667\n",
      "0.0032880974\n",
      "0.19535476\n",
      "0.0032865384\n",
      "0.1986413\n",
      "0.0032858476\n",
      "0.20192716\n",
      "CPU times: user 1min 55s, sys: 69.4 ms, total: 1min 55s\n",
      "Wall time: 1min 55s\n"
     ]
    }
   ],
   "source": [
    "%%time\n",
    "time = 0\n",
    "while time <= 0.2:\n",
    "    t_dt = time_step(cons_var, grid.dx, cfl_num)\n",
    "    flux = llf_flux(cons_var)\n",
    "    cv_new = cons_var - (t_dt / grid.dx) * flux\n",
    "    cons_var = bc(cv_new)\n",
    "    time += t_dt\n",
    "    print(time)"
   ]
  },
  {
   "cell_type": "markdown",
   "id": "705d52c5",
   "metadata": {},
   "source": [
    "### Plot results"
   ]
  },
  {
   "cell_type": "code",
   "execution_count": 12,
   "id": "aa868f03",
   "metadata": {},
   "outputs": [
    {
     "data": {
      "text/plain": [
       "(array([0. , 0.2, 0.4, 0.6, 0.8, 1. , 1.2]),\n",
       " [Text(0, 0, ''),\n",
       "  Text(0, 0, ''),\n",
       "  Text(0, 0, ''),\n",
       "  Text(0, 0, ''),\n",
       "  Text(0, 0, ''),\n",
       "  Text(0, 0, ''),\n",
       "  Text(0, 0, '')])"
      ]
     },
     "execution_count": 12,
     "metadata": {},
     "output_type": "execute_result"
    },
    {
     "data": {
      "image/png": "[encoded data removed]",
      "text/plain": [
       "<Figure size 432x288 with 1 Axes>"
      ]
     },
     "metadata": {
      "needs_background": "light"
     },
     "output_type": "display_data"
    }
   ],
   "source": [
    "prim_var = cons_to_prim_vars(cons_var)\n",
    "analytical = np.loadtxt('/mnt/external_data/maruthi/my_codes/compressible_euler_1d/output/shock_tube.dat')\n",
    "plt.plot(x_grid, prim_var[:, 0], label='LLF')\n",
    "plt.plot(analytical[:, 0], analytical[:, 1], label='Analytical')\n",
    "plt.xlabel('x', fontsize=16)\n",
    "plt.ylabel(r'$\\rho $', fontsize=16)\n",
    "plt.legend(fontsize=16)\n",
    "plt.xticks(fontsize=16)\n",
    "plt.yticks(fontsize=16)"
   ]
  }
 ],
 "metadata": {
  "kernelspec": {
   "display_name": "Python 3",
   "language": "python",
   "name": "python3"
  },
  "language_info": {
   "codemirror_mode": {
    "name": "ipython",
    "version": 3
   },
   "file_extension": ".py",
   "mimetype": "text/x-python",
   "name": "python",
   "nbconvert_exporter": "python",
   "pygments_lexer": "ipython3",
   "version": "3.8.10"
  }
 },
 "nbformat": 4,
 "nbformat_minor": 5
}
